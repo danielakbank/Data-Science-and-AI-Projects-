{
 "cells": [
  {
   "cell_type": "markdown",
   "id": "a4910f83",
   "metadata": {},
   "source": [
    "### IMPORTING THE NECESSARY LIBRARIES"
   ]
  },
  {
   "cell_type": "code",
   "execution_count": 2,
   "id": "826275b3",
   "metadata": {},
   "outputs": [],
   "source": [
    "import pandas as pd\n",
    "import numpy as np\n",
    "import seaborn as sns\n",
    "import matplotlib.pyplot as plt \n",
    "import plotly.graph_objects as gp"
   ]
  },
  {
   "cell_type": "markdown",
   "id": "f86cf281",
   "metadata": {},
   "source": [
    "### READING THE CENSUS CSV FILE\n"
   ]
  },
  {
   "cell_type": "code",
   "execution_count": 5,
   "id": "c5911e55",
   "metadata": {},
   "outputs": [],
   "source": [
    "census_df = pd.read_csv('census18.csv')"
   ]
  },
  {
   "cell_type": "code",
   "execution_count": null,
   "id": "0db0ca9d",
   "metadata": {},
   "outputs": [],
   "source": [
    "### LOADING THE DA"
   ]
  }
 ],
 "metadata": {
  "kernelspec": {
   "display_name": "Python 3 (ipykernel)",
   "language": "python",
   "name": "python3"
  },
  "language_info": {
   "codemirror_mode": {
    "name": "ipython",
    "version": 3
   },
   "file_extension": ".py",
   "mimetype": "text/x-python",
   "name": "python",
   "nbconvert_exporter": "python",
   "pygments_lexer": "ipython3",
   "version": "3.11.2"
  }
 },
 "nbformat": 4,
 "nbformat_minor": 5
}
