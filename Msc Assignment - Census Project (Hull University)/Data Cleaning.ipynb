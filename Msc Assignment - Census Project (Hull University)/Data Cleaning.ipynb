{
 "cells": [
  {
   "cell_type": "markdown",
   "id": "86fc1fd8",
   "metadata": {},
   "source": [
    "## Importing the necessary libraries"
   ]
  },
  {
   "cell_type": "code",
   "execution_count": 10,
   "id": "ea1ca3ba",
   "metadata": {},
   "outputs": [],
   "source": [
    "import os\n",
    "import pandas as pd\n",
    "import numpy as np\n",
    "import seaborn as sns\n",
    "import matplotlib.pyplot as plt\n",
    "import plotly.graph_objects as gp"
   ]
  },
  {
   "cell_type": "markdown",
   "id": "b462dfcf",
   "metadata": {},
   "source": [
    "### Loading the census_data.csv from the data directory.\n",
    "#### The code below: \n",
    "Checks for the existence of data/census_data.csv before attempting to read it. If the file is not found, it will print an error message indicating that the file does not exist. If the file is found, it will proceed to read the file into a DataFrame and display its information."
   ]
  },
  {
   "cell_type": "code",
   "execution_count": 11,
   "id": "71e4f382",
   "metadata": {},
   "outputs": [
    {
     "name": "stdout",
     "output_type": "stream",
     "text": [
      ".... CENSUS DATA LOADED ....\n",
      "\n",
      "<class 'pandas.core.frame.DataFrame'>\n",
      "RangeIndex: 9426 entries, 0 to 9425\n",
      "Data columns (total 11 columns):\n",
      " #   Column                         Non-Null Count  Dtype  \n",
      "---  ------                         --------------  -----  \n",
      " 0   House Number                   9426 non-null   int64  \n",
      " 1   Street                         9426 non-null   object \n",
      " 2   First Name                     9426 non-null   object \n",
      " 3   Surname                        9426 non-null   object \n",
      " 4   Age                            9426 non-null   float64\n",
      " 5   Relationship to Head of House  9426 non-null   object \n",
      " 6   Marital Status                 6996 non-null   object \n",
      " 7   Gender                         9426 non-null   object \n",
      " 8   Occupation                     9426 non-null   object \n",
      " 9   Infirmity                      9426 non-null   object \n",
      " 10  Religion                       6937 non-null   object \n",
      "dtypes: float64(1), int64(1), object(9)\n",
      "memory usage: 810.2+ KB\n"
     ]
    }
   ],
   "source": [
    "# Census data file path\n",
    "file_path = 'data/census_data.csv'\n",
    "\n",
    "# Check if the file exists\n",
    "if os.path.isfile(file_path):\n",
    "    # If the file exists, read the CSV file into a DataFrame\n",
    "    census_df = pd.read_csv(file_path)\n",
    "    print(\".... CENSUS DATA LOADED ....\\n\")\n",
    "    \n",
    "    # Display information about the DataFrame\n",
    "    census_df.info()\n",
    "else:\n",
    "    # If the file does not exist, print an error message\n",
    "    print(f\"Error: The file '{file_path}' does not exist.\")"
   ]
  },
  {
   "cell_type": "markdown",
   "id": "c7e4f13b",
   "metadata": {},
   "source": [
    "## Data Cleaning\n",
    "\n",
    "To clean the census DataFrame for data analysis and predictive modeling, I am following this steps.\n",
    "\n",
    "1. Handle Missing Values.\n",
    "\n",
    "2. Convert Data Types: Ensure all columns have the appropriate data types.\n",
    "\n",
    "3. Standardize Data: Ensure consistency in categorical data (e.g., make sure 'Gender' values are standardized).\n",
    "\n",
    "4. Remove or Impute Outliers: Check for and handle outliers, especially in numerical data like Age."
   ]
  },
  {
   "cell_type": "markdown",
   "id": "1f3b2b5c",
   "metadata": {},
   "source": [
    "### 1. Handle Missing Values"
   ]
  },
  {
   "cell_type": "code",
   "execution_count": 12,
   "id": "b91466bf",
   "metadata": {},
   "outputs": [
    {
     "data": {
      "text/plain": [
       "House Number                        0\n",
       "Street                              0\n",
       "First Name                          0\n",
       "Surname                             0\n",
       "Age                                 0\n",
       "Relationship to Head of House       0\n",
       "Marital Status                   2430\n",
       "Gender                              0\n",
       "Occupation                          0\n",
       "Infirmity                           0\n",
       "Religion                         2489\n",
       "dtype: int64"
      ]
     },
     "execution_count": 12,
     "metadata": {},
     "output_type": "execute_result"
    }
   ],
   "source": [
    "# Calculate the sum of missing entries for each column\n",
    "census_df.isna().sum()"
   ]
  },
  {
   "cell_type": "markdown",
   "id": "c4de0e92",
   "metadata": {},
   "source": [
    "### "
   ]
  },
  {
   "cell_type": "code",
   "execution_count": 16,
   "id": "7b7a0095",
   "metadata": {},
   "outputs": [
    {
     "data": {
      "text/plain": [
       "House Number                     0\n",
       "Street                           0\n",
       "First Name                       1\n",
       "Surname                          0\n",
       "Age                              0\n",
       "Relationship to Head of House    0\n",
       "Marital Status                   1\n",
       "Gender                           0\n",
       "Occupation                       1\n",
       "Infirmity                        7\n",
       "Religion                         1\n",
       "dtype: int64"
      ]
     },
     "execution_count": 16,
     "metadata": {},
     "output_type": "execute_result"
    }
   ],
   "source": [
    "# Checking to see if they are entries with empty strings\n",
    "empty_string_mask = census_df.applymap(lambda x: x == ' ').sum()\n",
    "\n",
    "empty_string_mask"
   ]
  },
  {
   "cell_type": "code",
   "execution_count": 175,
   "id": "847af961",
   "metadata": {},
   "outputs": [
    {
     "data": {
      "text/plain": [
       "array(['Married', nan, 'Divorced', 'Single', 'Widowed', ' '], dtype=object)"
      ]
     },
     "execution_count": 175,
     "metadata": {},
     "output_type": "execute_result"
    }
   ],
   "source": [
    "census_df['Marital Status'].unique()"
   ]
  },
  {
   "cell_type": "markdown",
   "id": "f7494dca",
   "metadata": {},
   "source": [
    "### -  Inspecting the unique entries in the Religion Column"
   ]
  },
  {
   "cell_type": "code",
   "execution_count": 176,
   "id": "1a86d4a7",
   "metadata": {},
   "outputs": [
    {
     "data": {
      "text/plain": [
       "array(['None', nan, 'Catholic', 'Methodist', 'Christian', 'Muslim',\n",
       "       'Private', 'Jewish', 'Sikh', 'Nope', 'Buddist', 'Baptist', 'Sith',\n",
       "       'Bahai', 'Agnostic', 'Orthodoxy', ' '], dtype=object)"
      ]
     },
     "execution_count": 176,
     "metadata": {},
     "output_type": "execute_result"
    }
   ],
   "source": [
    "# Filtering out the Religion column\n",
    "census_df['Religion'].unique()"
   ]
  },
  {
   "cell_type": "markdown",
   "id": "468c00b9",
   "metadata": {},
   "source": [
    "### - Deal with nan values in Marital Status and Religion."
   ]
  },
  {
   "cell_type": "code",
   "execution_count": 177,
   "id": "8867d874",
   "metadata": {},
   "outputs": [],
   "source": [
    "# Fill nan values with a \"UNKNOW\" placeholder\n",
    "census_df['Marital Status'].fillna('Unknown', inplace=True)\n",
    "\n",
    "# Fill nan values in Religion to \"UNKNOW\"\n",
    "census_df['Religion'].fillna('Unknown', inplace=True)"
   ]
  },
  {
   "cell_type": "code",
   "execution_count": 178,
   "id": "c5d63dc1",
   "metadata": {},
   "outputs": [
    {
     "data": {
      "text/plain": [
       "House Number                     0\n",
       "Street                           0\n",
       "First Name                       0\n",
       "Surname                          0\n",
       "Age                              0\n",
       "Relationship to Head of House    0\n",
       "Marital Status                   0\n",
       "Gender                           0\n",
       "Occupation                       0\n",
       "Infirmity                        0\n",
       "Religion                         0\n",
       "dtype: int64"
      ]
     },
     "execution_count": 178,
     "metadata": {},
     "output_type": "execute_result"
    }
   ],
   "source": [
    "# checking for missing values\n",
    "census_df.isna().sum()"
   ]
  },
  {
   "cell_type": "code",
   "execution_count": 179,
   "id": "425623d9",
   "metadata": {},
   "outputs": [
    {
     "data": {
      "text/plain": [
       "array(['Married', 'Unknown', 'Divorced', 'Single', 'Widowed', ' '],\n",
       "      dtype=object)"
      ]
     },
     "execution_count": 179,
     "metadata": {},
     "output_type": "execute_result"
    }
   ],
   "source": [
    "census_df['Marital Status'].unique()"
   ]
  },
  {
   "cell_type": "code",
   "execution_count": 180,
   "id": "fb3ff1cf",
   "metadata": {},
   "outputs": [
    {
     "data": {
      "text/plain": [
       "array(['None', 'Unknown', 'Catholic', 'Methodist', 'Christian', 'Muslim',\n",
       "       'Private', 'Jewish', 'Sikh', 'Nope', 'Buddist', 'Baptist', 'Sith',\n",
       "       'Bahai', 'Agnostic', 'Orthodoxy', ' '], dtype=object)"
      ]
     },
     "execution_count": 180,
     "metadata": {},
     "output_type": "execute_result"
    }
   ],
   "source": [
    "census_df['Religion'].unique()"
   ]
  },
  {
   "cell_type": "markdown",
   "id": "47549542",
   "metadata": {},
   "source": [
    "Above are the unique entries in the Marital status, Noticing that the marital status and Religion column both contains empty string(' ')"
   ]
  },
  {
   "cell_type": "markdown",
   "id": "ae7aec27",
   "metadata": {},
   "source": [
    "### Investigating the entry with the empty string (' ') in both the 'Marital Status' and 'Religion' Column"
   ]
  },
  {
   "cell_type": "markdown",
   "id": "611c51ce",
   "metadata": {},
   "source": [
    "### -- Marital Status"
   ]
  },
  {
   "cell_type": "markdown",
   "id": "17f4c032",
   "metadata": {},
   "source": [
    "Fecthing all entries with empty strings "
   ]
  },
  {
   "cell_type": "code",
   "execution_count": 181,
   "id": "b6f89263",
   "metadata": {},
   "outputs": [
    {
     "data": {
      "text/html": [
       "<div>\n",
       "<style scoped>\n",
       "    .dataframe tbody tr th:only-of-type {\n",
       "        vertical-align: middle;\n",
       "    }\n",
       "\n",
       "    .dataframe tbody tr th {\n",
       "        vertical-align: top;\n",
       "    }\n",
       "\n",
       "    .dataframe thead th {\n",
       "        text-align: right;\n",
       "    }\n",
       "</style>\n",
       "<table border=\"1\" class=\"dataframe\">\n",
       "  <thead>\n",
       "    <tr style=\"text-align: right;\">\n",
       "      <th></th>\n",
       "      <th>House Number</th>\n",
       "      <th>Street</th>\n",
       "      <th>First Name</th>\n",
       "      <th>Surname</th>\n",
       "      <th>Age</th>\n",
       "      <th>Relationship to Head of House</th>\n",
       "      <th>Marital Status</th>\n",
       "      <th>Gender</th>\n",
       "      <th>Occupation</th>\n",
       "      <th>Infirmity</th>\n",
       "      <th>Religion</th>\n",
       "    </tr>\n",
       "  </thead>\n",
       "  <tbody>\n",
       "    <tr>\n",
       "      <th>8941</th>\n",
       "      <td>4</td>\n",
       "      <td>Parsons Inlet</td>\n",
       "      <td>Jason</td>\n",
       "      <td>Davies</td>\n",
       "      <td>56.0</td>\n",
       "      <td>Husband</td>\n",
       "      <td></td>\n",
       "      <td>Male</td>\n",
       "      <td>Geochemist</td>\n",
       "      <td>None</td>\n",
       "      <td>Catholic</td>\n",
       "    </tr>\n",
       "  </tbody>\n",
       "</table>\n",
       "</div>"
      ],
      "text/plain": [
       "      House Number         Street First Name Surname   Age  \\\n",
       "8941             4  Parsons Inlet      Jason  Davies  56.0   \n",
       "\n",
       "     Relationship to Head of House Marital Status Gender  Occupation  \\\n",
       "8941                       Husband                  Male  Geochemist   \n",
       "\n",
       "     Infirmity  Religion  \n",
       "8941      None  Catholic  "
      ]
     },
     "execution_count": 181,
     "metadata": {},
     "output_type": "execute_result"
    }
   ],
   "source": [
    "census_df.loc[census_df['Marital Status'] == ' ']"
   ]
  },
  {
   "cell_type": "markdown",
   "id": "ef386861",
   "metadata": {},
   "source": [
    "#### \n",
    "using the information gotten from the entry above entry street, house number, and surname to investigate marital status "
   ]
  },
  {
   "cell_type": "code",
   "execution_count": 182,
   "id": "a97952e7",
   "metadata": {},
   "outputs": [
    {
     "data": {
      "text/html": [
       "<div>\n",
       "<style scoped>\n",
       "    .dataframe tbody tr th:only-of-type {\n",
       "        vertical-align: middle;\n",
       "    }\n",
       "\n",
       "    .dataframe tbody tr th {\n",
       "        vertical-align: top;\n",
       "    }\n",
       "\n",
       "    .dataframe thead th {\n",
       "        text-align: right;\n",
       "    }\n",
       "</style>\n",
       "<table border=\"1\" class=\"dataframe\">\n",
       "  <thead>\n",
       "    <tr style=\"text-align: right;\">\n",
       "      <th></th>\n",
       "      <th>House Number</th>\n",
       "      <th>Street</th>\n",
       "      <th>First Name</th>\n",
       "      <th>Surname</th>\n",
       "      <th>Age</th>\n",
       "      <th>Relationship to Head of House</th>\n",
       "      <th>Marital Status</th>\n",
       "      <th>Gender</th>\n",
       "      <th>Occupation</th>\n",
       "      <th>Infirmity</th>\n",
       "      <th>Religion</th>\n",
       "    </tr>\n",
       "  </thead>\n",
       "  <tbody>\n",
       "    <tr>\n",
       "      <th>8940</th>\n",
       "      <td>4</td>\n",
       "      <td>Parsons Inlet</td>\n",
       "      <td>Heather</td>\n",
       "      <td>Davies</td>\n",
       "      <td>51.0</td>\n",
       "      <td>Head</td>\n",
       "      <td>Married</td>\n",
       "      <td>Female</td>\n",
       "      <td>Equality and diversity officer</td>\n",
       "      <td>None</td>\n",
       "      <td>Catholic</td>\n",
       "    </tr>\n",
       "    <tr>\n",
       "      <th>8941</th>\n",
       "      <td>4</td>\n",
       "      <td>Parsons Inlet</td>\n",
       "      <td>Jason</td>\n",
       "      <td>Davies</td>\n",
       "      <td>56.0</td>\n",
       "      <td>Husband</td>\n",
       "      <td></td>\n",
       "      <td>Male</td>\n",
       "      <td>Geochemist</td>\n",
       "      <td>None</td>\n",
       "      <td>Catholic</td>\n",
       "    </tr>\n",
       "    <tr>\n",
       "      <th>8942</th>\n",
       "      <td>4</td>\n",
       "      <td>Parsons Inlet</td>\n",
       "      <td>Jacqueline</td>\n",
       "      <td>Davies</td>\n",
       "      <td>12.0</td>\n",
       "      <td>Daughter</td>\n",
       "      <td>Unknown</td>\n",
       "      <td>Female</td>\n",
       "      <td>Student</td>\n",
       "      <td>None</td>\n",
       "      <td>Unknown</td>\n",
       "    </tr>\n",
       "    <tr>\n",
       "      <th>8943</th>\n",
       "      <td>4</td>\n",
       "      <td>Parsons Inlet</td>\n",
       "      <td>Gavin</td>\n",
       "      <td>Davies</td>\n",
       "      <td>11.0</td>\n",
       "      <td>Son</td>\n",
       "      <td>Unknown</td>\n",
       "      <td>Male</td>\n",
       "      <td>Student</td>\n",
       "      <td>None</td>\n",
       "      <td>Unknown</td>\n",
       "    </tr>\n",
       "  </tbody>\n",
       "</table>\n",
       "</div>"
      ],
      "text/plain": [
       "      House Number         Street  First Name Surname   Age  \\\n",
       "8940             4  Parsons Inlet     Heather  Davies  51.0   \n",
       "8941             4  Parsons Inlet       Jason  Davies  56.0   \n",
       "8942             4  Parsons Inlet  Jacqueline  Davies  12.0   \n",
       "8943             4  Parsons Inlet       Gavin  Davies  11.0   \n",
       "\n",
       "     Relationship to Head of House Marital Status  Gender  \\\n",
       "8940                          Head        Married  Female   \n",
       "8941                       Husband                   Male   \n",
       "8942                      Daughter        Unknown  Female   \n",
       "8943                           Son        Unknown    Male   \n",
       "\n",
       "                          Occupation Infirmity  Religion  \n",
       "8940  Equality and diversity officer      None  Catholic  \n",
       "8941                      Geochemist      None  Catholic  \n",
       "8942                         Student      None   Unknown  \n",
       "8943                         Student      None   Unknown  "
      ]
     },
     "execution_count": 182,
     "metadata": {},
     "output_type": "execute_result"
    }
   ],
   "source": [
    "census_df.loc[(census_df['Street'] == 'Parsons Inlet') & \n",
    "             (census_df['Surname'] == 'Davies') &\n",
    "              (census_df['House Number'] == 4)\n",
    "             ]"
   ]
  },
  {
   "cell_type": "markdown",
   "id": "a480c36f",
   "metadata": {},
   "source": [
    "#### Replacing the empty entry in the Marital Status with 'Married'"
   ]
  },
  {
   "cell_type": "code",
   "execution_count": 183,
   "id": "68990527",
   "metadata": {},
   "outputs": [
    {
     "data": {
      "text/html": [
       "<div>\n",
       "<style scoped>\n",
       "    .dataframe tbody tr th:only-of-type {\n",
       "        vertical-align: middle;\n",
       "    }\n",
       "\n",
       "    .dataframe tbody tr th {\n",
       "        vertical-align: top;\n",
       "    }\n",
       "\n",
       "    .dataframe thead th {\n",
       "        text-align: right;\n",
       "    }\n",
       "</style>\n",
       "<table border=\"1\" class=\"dataframe\">\n",
       "  <thead>\n",
       "    <tr style=\"text-align: right;\">\n",
       "      <th></th>\n",
       "      <th>House Number</th>\n",
       "      <th>Street</th>\n",
       "      <th>First Name</th>\n",
       "      <th>Surname</th>\n",
       "      <th>Age</th>\n",
       "      <th>Relationship to Head of House</th>\n",
       "      <th>Marital Status</th>\n",
       "      <th>Gender</th>\n",
       "      <th>Occupation</th>\n",
       "      <th>Infirmity</th>\n",
       "      <th>Religion</th>\n",
       "    </tr>\n",
       "  </thead>\n",
       "  <tbody>\n",
       "  </tbody>\n",
       "</table>\n",
       "</div>"
      ],
      "text/plain": [
       "Empty DataFrame\n",
       "Columns: [House Number, Street, First Name, Surname, Age, Relationship to Head of House, Marital Status, Gender, Occupation, Infirmity, Religion]\n",
       "Index: []"
      ]
     },
     "execution_count": 183,
     "metadata": {},
     "output_type": "execute_result"
    }
   ],
   "source": [
    "census_df['Marital Status'] = census_df['Marital Status'].replace(' ', 'Married')\n",
    "census_df.loc[census_df['Marital Status'] == ' ']"
   ]
  },
  {
   "cell_type": "markdown",
   "id": "0864f5d1",
   "metadata": {},
   "source": [
    "### -- Religion"
   ]
  },
  {
   "cell_type": "code",
   "execution_count": 184,
   "id": "ed79c9b0",
   "metadata": {},
   "outputs": [
    {
     "data": {
      "text/html": [
       "<div>\n",
       "<style scoped>\n",
       "    .dataframe tbody tr th:only-of-type {\n",
       "        vertical-align: middle;\n",
       "    }\n",
       "\n",
       "    .dataframe tbody tr th {\n",
       "        vertical-align: top;\n",
       "    }\n",
       "\n",
       "    .dataframe thead th {\n",
       "        text-align: right;\n",
       "    }\n",
       "</style>\n",
       "<table border=\"1\" class=\"dataframe\">\n",
       "  <thead>\n",
       "    <tr style=\"text-align: right;\">\n",
       "      <th></th>\n",
       "      <th>House Number</th>\n",
       "      <th>Street</th>\n",
       "      <th>First Name</th>\n",
       "      <th>Surname</th>\n",
       "      <th>Age</th>\n",
       "      <th>Relationship to Head of House</th>\n",
       "      <th>Marital Status</th>\n",
       "      <th>Gender</th>\n",
       "      <th>Occupation</th>\n",
       "      <th>Infirmity</th>\n",
       "      <th>Religion</th>\n",
       "    </tr>\n",
       "  </thead>\n",
       "  <tbody>\n",
       "    <tr>\n",
       "      <th>8840</th>\n",
       "      <td>4</td>\n",
       "      <td>ExcaliburBells Street</td>\n",
       "      <td>Jean</td>\n",
       "      <td>O'Brien</td>\n",
       "      <td>43.0</td>\n",
       "      <td>Wife</td>\n",
       "      <td>Married</td>\n",
       "      <td>Female</td>\n",
       "      <td>Ecologist</td>\n",
       "      <td>None</td>\n",
       "      <td></td>\n",
       "    </tr>\n",
       "  </tbody>\n",
       "</table>\n",
       "</div>"
      ],
      "text/plain": [
       "      House Number                 Street First Name  Surname   Age  \\\n",
       "8840             4  ExcaliburBells Street       Jean  O'Brien  43.0   \n",
       "\n",
       "     Relationship to Head of House Marital Status  Gender Occupation  \\\n",
       "8840                          Wife        Married  Female  Ecologist   \n",
       "\n",
       "     Infirmity Religion  \n",
       "8840      None           "
      ]
     },
     "execution_count": 184,
     "metadata": {},
     "output_type": "execute_result"
    }
   ],
   "source": [
    "census_df.loc[census_df['Religion'] == ' ']"
   ]
  },
  {
   "cell_type": "markdown",
   "id": "0e09de7c",
   "metadata": {},
   "source": [
    "#### Replacing the empty entry in the Religion to 'Unknown'"
   ]
  },
  {
   "cell_type": "code",
   "execution_count": 185,
   "id": "1d993b58",
   "metadata": {},
   "outputs": [
    {
     "data": {
      "text/plain": [
       "array(['None', 'Unknown', 'Catholic', 'Methodist', 'Christian', 'Muslim',\n",
       "       'Private', 'Jewish', 'Sikh', 'Nope', 'Buddist', 'Baptist', 'Sith',\n",
       "       'Bahai', 'Agnostic', 'Orthodoxy'], dtype=object)"
      ]
     },
     "execution_count": 185,
     "metadata": {},
     "output_type": "execute_result"
    }
   ],
   "source": [
    "census_df['Religion'] = census_df['Religion'].replace(' ', 'Unknown')\n",
    "\n",
    "census_df['Religion'].unique()"
   ]
  },
  {
   "cell_type": "markdown",
   "id": "a0fce82d",
   "metadata": {},
   "source": [
    "#### Replacing the 'Nope' entries to 'None'"
   ]
  },
  {
   "cell_type": "code",
   "execution_count": 186,
   "id": "705ebac3",
   "metadata": {},
   "outputs": [
    {
     "data": {
      "text/plain": [
       "array(['None', 'Unknown', 'Catholic', 'Methodist', 'Christian', 'Muslim',\n",
       "       'Private', 'Jewish', 'Sikh', 'Buddist', 'Baptist', 'Sith', 'Bahai',\n",
       "       'Agnostic', 'Orthodoxy'], dtype=object)"
      ]
     },
     "execution_count": 186,
     "metadata": {},
     "output_type": "execute_result"
    }
   ],
   "source": [
    "census_df['Religion'] = census_df['Religion'].replace('Nope', 'None')\n",
    "\n",
    "census_df['Religion'].unique()"
   ]
  },
  {
   "cell_type": "markdown",
   "id": "dc8dee6e",
   "metadata": {},
   "source": [
    "### 3.  Convert data types if necessary"
   ]
  },
  {
   "cell_type": "code",
   "execution_count": 187,
   "id": "da2f7b2d",
   "metadata": {},
   "outputs": [
    {
     "name": "stdout",
     "output_type": "stream",
     "text": [
      "<class 'pandas.core.frame.DataFrame'>\n",
      "RangeIndex: 9426 entries, 0 to 9425\n",
      "Data columns (total 11 columns):\n",
      " #   Column                         Non-Null Count  Dtype  \n",
      "---  ------                         --------------  -----  \n",
      " 0   House Number                   9426 non-null   int64  \n",
      " 1   Street                         9426 non-null   object \n",
      " 2   First Name                     9426 non-null   object \n",
      " 3   Surname                        9426 non-null   object \n",
      " 4   Age                            9426 non-null   float64\n",
      " 5   Relationship to Head of House  9426 non-null   object \n",
      " 6   Marital Status                 9426 non-null   object \n",
      " 7   Gender                         9426 non-null   object \n",
      " 8   Occupation                     9426 non-null   object \n",
      " 9   Infirmity                      9426 non-null   object \n",
      " 10  Religion                       9426 non-null   object \n",
      "dtypes: float64(1), int64(1), object(9)\n",
      "memory usage: 810.2+ KB\n"
     ]
    }
   ],
   "source": [
    "census_df.info()"
   ]
  },
  {
   "cell_type": "markdown",
   "id": "d76c4ca6",
   "metadata": {},
   "source": [
    "#### Ensuring that the Age column is converted to an integer."
   ]
  },
  {
   "cell_type": "code",
   "execution_count": 188,
   "id": "aab5900d",
   "metadata": {},
   "outputs": [
    {
     "name": "stdout",
     "output_type": "stream",
     "text": [
      "<class 'pandas.core.frame.DataFrame'>\n",
      "RangeIndex: 9426 entries, 0 to 9425\n",
      "Data columns (total 11 columns):\n",
      " #   Column                         Non-Null Count  Dtype \n",
      "---  ------                         --------------  ----- \n",
      " 0   House Number                   9426 non-null   int64 \n",
      " 1   Street                         9426 non-null   object\n",
      " 2   First Name                     9426 non-null   object\n",
      " 3   Surname                        9426 non-null   object\n",
      " 4   Age                            9426 non-null   int32 \n",
      " 5   Relationship to Head of House  9426 non-null   object\n",
      " 6   Marital Status                 9426 non-null   object\n",
      " 7   Gender                         9426 non-null   object\n",
      " 8   Occupation                     9426 non-null   object\n",
      " 9   Infirmity                      9426 non-null   object\n",
      " 10  Religion                       9426 non-null   object\n",
      "dtypes: int32(1), int64(1), object(9)\n",
      "memory usage: 773.4+ KB\n"
     ]
    }
   ],
   "source": [
    "# Convert 'Age' to int\n",
    "census_df['Age'] = census_df['Age'].astype(int)\n",
    "\n",
    "# Display the updated DataFrame information\n",
    "census_df.info()"
   ]
  },
  {
   "cell_type": "code",
   "execution_count": 189,
   "id": "2038acca",
   "metadata": {},
   "outputs": [
    {
     "data": {
      "text/plain": [
       "0       36\n",
       "1       30\n",
       "2        0\n",
       "3       40\n",
       "4       31\n",
       "        ..\n",
       "9421    29\n",
       "9422    29\n",
       "9423    53\n",
       "9424    54\n",
       "9425    22\n",
       "Name: Age, Length: 9426, dtype: int32"
      ]
     },
     "execution_count": 189,
     "metadata": {},
     "output_type": "execute_result"
    }
   ],
   "source": [
    "census_df['Age']"
   ]
  },
  {
   "cell_type": "markdown",
   "id": "91d92425",
   "metadata": {},
   "source": [
    "### 4.  Standardize Data: Ensure consistency in categorical data (e.g., make sure 'Gender' values are standardized)."
   ]
  },
  {
   "cell_type": "code",
   "execution_count": 190,
   "id": "346cfb7d",
   "metadata": {},
   "outputs": [],
   "source": [
    "census_df['Gender'] = census_df['Gender'].str.lower().str.capitalize()"
   ]
  },
  {
   "cell_type": "code",
   "execution_count": 191,
   "id": "2ac3ebd4",
   "metadata": {},
   "outputs": [
    {
     "data": {
      "text/plain": [
       "array(['Male', 'Female'], dtype=object)"
      ]
     },
     "execution_count": 191,
     "metadata": {},
     "output_type": "execute_result"
    }
   ],
   "source": [
    "census_df['Gender'].unique()"
   ]
  },
  {
   "cell_type": "markdown",
   "id": "38ec1974",
   "metadata": {},
   "source": [
    "### 5. Removing Un-necessary Columns\n",
    "\n",
    "By focusing necessary columns, we retain the most relevant information for understanding the population and making meaningful predictions, while removing columns that do not contribute to these goals."
   ]
  },
  {
   "cell_type": "code",
   "execution_count": 192,
   "id": "e0727cf8",
   "metadata": {},
   "outputs": [
    {
     "data": {
      "text/html": [
       "<div>\n",
       "<style scoped>\n",
       "    .dataframe tbody tr th:only-of-type {\n",
       "        vertical-align: middle;\n",
       "    }\n",
       "\n",
       "    .dataframe tbody tr th {\n",
       "        vertical-align: top;\n",
       "    }\n",
       "\n",
       "    .dataframe thead th {\n",
       "        text-align: right;\n",
       "    }\n",
       "</style>\n",
       "<table border=\"1\" class=\"dataframe\">\n",
       "  <thead>\n",
       "    <tr style=\"text-align: right;\">\n",
       "      <th></th>\n",
       "      <th>House Number</th>\n",
       "      <th>Street</th>\n",
       "      <th>First Name</th>\n",
       "      <th>Surname</th>\n",
       "      <th>Age</th>\n",
       "      <th>Relationship to Head of House</th>\n",
       "      <th>Marital Status</th>\n",
       "      <th>Gender</th>\n",
       "      <th>Occupation</th>\n",
       "      <th>Infirmity</th>\n",
       "      <th>Religion</th>\n",
       "    </tr>\n",
       "  </thead>\n",
       "  <tbody>\n",
       "    <tr>\n",
       "      <th>0</th>\n",
       "      <td>1</td>\n",
       "      <td>Bulldog Crescent</td>\n",
       "      <td>Harry</td>\n",
       "      <td>Baldwin</td>\n",
       "      <td>36</td>\n",
       "      <td>Head</td>\n",
       "      <td>Married</td>\n",
       "      <td>Male</td>\n",
       "      <td>Education administrator</td>\n",
       "      <td>None</td>\n",
       "      <td>None</td>\n",
       "    </tr>\n",
       "    <tr>\n",
       "      <th>1</th>\n",
       "      <td>1</td>\n",
       "      <td>Bulldog Crescent</td>\n",
       "      <td>Heather</td>\n",
       "      <td>Baldwin</td>\n",
       "      <td>30</td>\n",
       "      <td>Wife</td>\n",
       "      <td>Married</td>\n",
       "      <td>Female</td>\n",
       "      <td>Purchasing manager</td>\n",
       "      <td>None</td>\n",
       "      <td>None</td>\n",
       "    </tr>\n",
       "    <tr>\n",
       "      <th>2</th>\n",
       "      <td>1</td>\n",
       "      <td>Bulldog Crescent</td>\n",
       "      <td>Katy</td>\n",
       "      <td>Baldwin</td>\n",
       "      <td>0</td>\n",
       "      <td>Daughter</td>\n",
       "      <td>Unknown</td>\n",
       "      <td>Female</td>\n",
       "      <td>Child</td>\n",
       "      <td>None</td>\n",
       "      <td>Unknown</td>\n",
       "    </tr>\n",
       "    <tr>\n",
       "      <th>3</th>\n",
       "      <td>1</td>\n",
       "      <td>Bulldog Crescent</td>\n",
       "      <td>Philip</td>\n",
       "      <td>Giles</td>\n",
       "      <td>40</td>\n",
       "      <td>Lodger</td>\n",
       "      <td>Divorced</td>\n",
       "      <td>Male</td>\n",
       "      <td>Manufacturing engineer</td>\n",
       "      <td>None</td>\n",
       "      <td>None</td>\n",
       "    </tr>\n",
       "    <tr>\n",
       "      <th>4</th>\n",
       "      <td>1</td>\n",
       "      <td>Bulldog Crescent</td>\n",
       "      <td>Shannon</td>\n",
       "      <td>Allen</td>\n",
       "      <td>31</td>\n",
       "      <td>Lodger</td>\n",
       "      <td>Single</td>\n",
       "      <td>Female</td>\n",
       "      <td>Restaurant manager</td>\n",
       "      <td>None</td>\n",
       "      <td>Catholic</td>\n",
       "    </tr>\n",
       "    <tr>\n",
       "      <th>...</th>\n",
       "      <td>...</td>\n",
       "      <td>...</td>\n",
       "      <td>...</td>\n",
       "      <td>...</td>\n",
       "      <td>...</td>\n",
       "      <td>...</td>\n",
       "      <td>...</td>\n",
       "      <td>...</td>\n",
       "      <td>...</td>\n",
       "      <td>...</td>\n",
       "      <td>...</td>\n",
       "    </tr>\n",
       "    <tr>\n",
       "      <th>9421</th>\n",
       "      <td>1</td>\n",
       "      <td>Duchess Longhouse</td>\n",
       "      <td>Iain</td>\n",
       "      <td>Gardner</td>\n",
       "      <td>29</td>\n",
       "      <td>Son</td>\n",
       "      <td>Single</td>\n",
       "      <td>Male</td>\n",
       "      <td>Designer, fashion/clothing</td>\n",
       "      <td>None</td>\n",
       "      <td>None</td>\n",
       "    </tr>\n",
       "    <tr>\n",
       "      <th>9422</th>\n",
       "      <td>1</td>\n",
       "      <td>Duchess Longhouse</td>\n",
       "      <td>Ashleigh</td>\n",
       "      <td>Gardner</td>\n",
       "      <td>29</td>\n",
       "      <td>Daughter</td>\n",
       "      <td>Single</td>\n",
       "      <td>Female</td>\n",
       "      <td>Farm manager</td>\n",
       "      <td>None</td>\n",
       "      <td>None</td>\n",
       "    </tr>\n",
       "    <tr>\n",
       "      <th>9423</th>\n",
       "      <td>1</td>\n",
       "      <td>Stephenson Barn</td>\n",
       "      <td>Anna</td>\n",
       "      <td>Reed</td>\n",
       "      <td>53</td>\n",
       "      <td>Head</td>\n",
       "      <td>Married</td>\n",
       "      <td>Female</td>\n",
       "      <td>Financial planner</td>\n",
       "      <td>None</td>\n",
       "      <td>Christian</td>\n",
       "    </tr>\n",
       "    <tr>\n",
       "      <th>9424</th>\n",
       "      <td>1</td>\n",
       "      <td>Stephenson Barn</td>\n",
       "      <td>Gregory</td>\n",
       "      <td>Reed</td>\n",
       "      <td>54</td>\n",
       "      <td>Husband</td>\n",
       "      <td>Married</td>\n",
       "      <td>Male</td>\n",
       "      <td>Naval architect</td>\n",
       "      <td>None</td>\n",
       "      <td>None</td>\n",
       "    </tr>\n",
       "    <tr>\n",
       "      <th>9425</th>\n",
       "      <td>1</td>\n",
       "      <td>Stephenson Barn</td>\n",
       "      <td>Angela</td>\n",
       "      <td>Reed</td>\n",
       "      <td>22</td>\n",
       "      <td>Daughter</td>\n",
       "      <td>Single</td>\n",
       "      <td>Female</td>\n",
       "      <td>University Student</td>\n",
       "      <td>None</td>\n",
       "      <td>None</td>\n",
       "    </tr>\n",
       "  </tbody>\n",
       "</table>\n",
       "<p>9426 rows × 11 columns</p>\n",
       "</div>"
      ],
      "text/plain": [
       "      House Number             Street First Name  Surname  Age  \\\n",
       "0                1   Bulldog Crescent      Harry  Baldwin   36   \n",
       "1                1   Bulldog Crescent    Heather  Baldwin   30   \n",
       "2                1   Bulldog Crescent       Katy  Baldwin    0   \n",
       "3                1   Bulldog Crescent     Philip    Giles   40   \n",
       "4                1   Bulldog Crescent    Shannon    Allen   31   \n",
       "...            ...                ...        ...      ...  ...   \n",
       "9421             1  Duchess Longhouse       Iain  Gardner   29   \n",
       "9422             1  Duchess Longhouse   Ashleigh  Gardner   29   \n",
       "9423             1    Stephenson Barn       Anna     Reed   53   \n",
       "9424             1    Stephenson Barn    Gregory     Reed   54   \n",
       "9425             1    Stephenson Barn     Angela     Reed   22   \n",
       "\n",
       "     Relationship to Head of House Marital Status  Gender  \\\n",
       "0                             Head        Married    Male   \n",
       "1                             Wife        Married  Female   \n",
       "2                         Daughter        Unknown  Female   \n",
       "3                           Lodger       Divorced    Male   \n",
       "4                           Lodger         Single  Female   \n",
       "...                            ...            ...     ...   \n",
       "9421                           Son         Single    Male   \n",
       "9422                      Daughter         Single  Female   \n",
       "9423                          Head        Married  Female   \n",
       "9424                       Husband        Married    Male   \n",
       "9425                      Daughter         Single  Female   \n",
       "\n",
       "                      Occupation Infirmity   Religion  \n",
       "0        Education administrator      None       None  \n",
       "1             Purchasing manager      None       None  \n",
       "2                          Child      None    Unknown  \n",
       "3         Manufacturing engineer      None       None  \n",
       "4             Restaurant manager      None   Catholic  \n",
       "...                          ...       ...        ...  \n",
       "9421  Designer, fashion/clothing      None       None  \n",
       "9422                Farm manager      None       None  \n",
       "9423           Financial planner      None  Christian  \n",
       "9424             Naval architect      None       None  \n",
       "9425          University Student      None       None  \n",
       "\n",
       "[9426 rows x 11 columns]"
      ]
     },
     "execution_count": 192,
     "metadata": {},
     "output_type": "execute_result"
    }
   ],
   "source": [
    "#\n",
    "census_df"
   ]
  },
  {
   "cell_type": "code",
   "execution_count": 193,
   "id": "807f29e1",
   "metadata": {},
   "outputs": [],
   "source": [
    "# List un-necessary columns\n",
    "removing_columns = ['House Number', 'Street', 'First Name', 'Surname']\n",
    "\n",
    "# Remove the columns from census_df\n",
    "cleaned_df = census_df.drop(columns=removing_columns)"
   ]
  },
  {
   "cell_type": "code",
   "execution_count": 194,
   "id": "a1c722ed",
   "metadata": {},
   "outputs": [
    {
     "data": {
      "text/html": [
       "<div>\n",
       "<style scoped>\n",
       "    .dataframe tbody tr th:only-of-type {\n",
       "        vertical-align: middle;\n",
       "    }\n",
       "\n",
       "    .dataframe tbody tr th {\n",
       "        vertical-align: top;\n",
       "    }\n",
       "\n",
       "    .dataframe thead th {\n",
       "        text-align: right;\n",
       "    }\n",
       "</style>\n",
       "<table border=\"1\" class=\"dataframe\">\n",
       "  <thead>\n",
       "    <tr style=\"text-align: right;\">\n",
       "      <th></th>\n",
       "      <th>Age</th>\n",
       "      <th>Relationship to Head of House</th>\n",
       "      <th>Marital Status</th>\n",
       "      <th>Gender</th>\n",
       "      <th>Occupation</th>\n",
       "      <th>Infirmity</th>\n",
       "      <th>Religion</th>\n",
       "    </tr>\n",
       "  </thead>\n",
       "  <tbody>\n",
       "    <tr>\n",
       "      <th>0</th>\n",
       "      <td>36</td>\n",
       "      <td>Head</td>\n",
       "      <td>Married</td>\n",
       "      <td>Male</td>\n",
       "      <td>Education administrator</td>\n",
       "      <td>None</td>\n",
       "      <td>None</td>\n",
       "    </tr>\n",
       "    <tr>\n",
       "      <th>1</th>\n",
       "      <td>30</td>\n",
       "      <td>Wife</td>\n",
       "      <td>Married</td>\n",
       "      <td>Female</td>\n",
       "      <td>Purchasing manager</td>\n",
       "      <td>None</td>\n",
       "      <td>None</td>\n",
       "    </tr>\n",
       "    <tr>\n",
       "      <th>2</th>\n",
       "      <td>0</td>\n",
       "      <td>Daughter</td>\n",
       "      <td>Unknown</td>\n",
       "      <td>Female</td>\n",
       "      <td>Child</td>\n",
       "      <td>None</td>\n",
       "      <td>Unknown</td>\n",
       "    </tr>\n",
       "    <tr>\n",
       "      <th>3</th>\n",
       "      <td>40</td>\n",
       "      <td>Lodger</td>\n",
       "      <td>Divorced</td>\n",
       "      <td>Male</td>\n",
       "      <td>Manufacturing engineer</td>\n",
       "      <td>None</td>\n",
       "      <td>None</td>\n",
       "    </tr>\n",
       "    <tr>\n",
       "      <th>4</th>\n",
       "      <td>31</td>\n",
       "      <td>Lodger</td>\n",
       "      <td>Single</td>\n",
       "      <td>Female</td>\n",
       "      <td>Restaurant manager</td>\n",
       "      <td>None</td>\n",
       "      <td>Catholic</td>\n",
       "    </tr>\n",
       "    <tr>\n",
       "      <th>...</th>\n",
       "      <td>...</td>\n",
       "      <td>...</td>\n",
       "      <td>...</td>\n",
       "      <td>...</td>\n",
       "      <td>...</td>\n",
       "      <td>...</td>\n",
       "      <td>...</td>\n",
       "    </tr>\n",
       "    <tr>\n",
       "      <th>9421</th>\n",
       "      <td>29</td>\n",
       "      <td>Son</td>\n",
       "      <td>Single</td>\n",
       "      <td>Male</td>\n",
       "      <td>Designer, fashion/clothing</td>\n",
       "      <td>None</td>\n",
       "      <td>None</td>\n",
       "    </tr>\n",
       "    <tr>\n",
       "      <th>9422</th>\n",
       "      <td>29</td>\n",
       "      <td>Daughter</td>\n",
       "      <td>Single</td>\n",
       "      <td>Female</td>\n",
       "      <td>Farm manager</td>\n",
       "      <td>None</td>\n",
       "      <td>None</td>\n",
       "    </tr>\n",
       "    <tr>\n",
       "      <th>9423</th>\n",
       "      <td>53</td>\n",
       "      <td>Head</td>\n",
       "      <td>Married</td>\n",
       "      <td>Female</td>\n",
       "      <td>Financial planner</td>\n",
       "      <td>None</td>\n",
       "      <td>Christian</td>\n",
       "    </tr>\n",
       "    <tr>\n",
       "      <th>9424</th>\n",
       "      <td>54</td>\n",
       "      <td>Husband</td>\n",
       "      <td>Married</td>\n",
       "      <td>Male</td>\n",
       "      <td>Naval architect</td>\n",
       "      <td>None</td>\n",
       "      <td>None</td>\n",
       "    </tr>\n",
       "    <tr>\n",
       "      <th>9425</th>\n",
       "      <td>22</td>\n",
       "      <td>Daughter</td>\n",
       "      <td>Single</td>\n",
       "      <td>Female</td>\n",
       "      <td>University Student</td>\n",
       "      <td>None</td>\n",
       "      <td>None</td>\n",
       "    </tr>\n",
       "  </tbody>\n",
       "</table>\n",
       "<p>9426 rows × 7 columns</p>\n",
       "</div>"
      ],
      "text/plain": [
       "      Age Relationship to Head of House Marital Status  Gender  \\\n",
       "0      36                          Head        Married    Male   \n",
       "1      30                          Wife        Married  Female   \n",
       "2       0                      Daughter        Unknown  Female   \n",
       "3      40                        Lodger       Divorced    Male   \n",
       "4      31                        Lodger         Single  Female   \n",
       "...   ...                           ...            ...     ...   \n",
       "9421   29                           Son         Single    Male   \n",
       "9422   29                      Daughter         Single  Female   \n",
       "9423   53                          Head        Married  Female   \n",
       "9424   54                       Husband        Married    Male   \n",
       "9425   22                      Daughter         Single  Female   \n",
       "\n",
       "                      Occupation Infirmity   Religion  \n",
       "0        Education administrator      None       None  \n",
       "1             Purchasing manager      None       None  \n",
       "2                          Child      None    Unknown  \n",
       "3         Manufacturing engineer      None       None  \n",
       "4             Restaurant manager      None   Catholic  \n",
       "...                          ...       ...        ...  \n",
       "9421  Designer, fashion/clothing      None       None  \n",
       "9422                Farm manager      None       None  \n",
       "9423           Financial planner      None  Christian  \n",
       "9424             Naval architect      None       None  \n",
       "9425          University Student      None       None  \n",
       "\n",
       "[9426 rows x 7 columns]"
      ]
     },
     "execution_count": 194,
     "metadata": {},
     "output_type": "execute_result"
    }
   ],
   "source": [
    "cleaned_df"
   ]
  },
  {
   "cell_type": "code",
   "execution_count": null,
   "id": "94bc0191",
   "metadata": {},
   "outputs": [],
   "source": []
  }
 ],
 "metadata": {
  "kernelspec": {
   "display_name": "Python 3 (ipykernel)",
   "language": "python",
   "name": "python3"
  },
  "language_info": {
   "codemirror_mode": {
    "name": "ipython",
    "version": 3
   },
   "file_extension": ".py",
   "mimetype": "text/x-python",
   "name": "python",
   "nbconvert_exporter": "python",
   "pygments_lexer": "ipython3",
   "version": "3.11.2"
  }
 },
 "nbformat": 4,
 "nbformat_minor": 5
}
